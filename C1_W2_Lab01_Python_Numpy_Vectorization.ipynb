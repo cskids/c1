{
  "cells": [
    {
      "cell_type": "markdown",
      "metadata": {
        "id": "view-in-github",
        "colab_type": "text"
      },
      "source": [
        "<a href=\"https://colab.research.google.com/github/cskids/supervised-ml/blob/main/C1_W2_Lab01_Python_Numpy_Vectorization.ipynb\" target=\"_parent\"><img src=\"https://colab.research.google.com/assets/colab-badge.svg\" alt=\"Open In Colab\"/></a>"
      ]
    },
    {
      "cell_type": "markdown",
      "metadata": {
        "id": "1KqenPUqHhFz"
      },
      "source": [
        "# Optional Lab: Python, NumPy and Vectorization\n",
        "A brief introduction to some of the scientific computing used in this course. In particular the NumPy scientific computing package and its use with python.\n",
        "\n",
        "# Outline\n",
        "- [&nbsp;&nbsp;1.1 Goals](#toc_40015_1.1)\n",
        "- [&nbsp;&nbsp;1.2 Useful References](#toc_40015_1.2)\n",
        "- [2 Python and NumPy <a name='Python and NumPy'></a>](#toc_40015_2)\n",
        "- [3 Vectors](#toc_40015_3)\n",
        "- [&nbsp;&nbsp;3.1 Abstract](#toc_40015_3.1)\n",
        "- [&nbsp;&nbsp;3.2 NumPy Arrays](#toc_40015_3.2)\n",
        "- [&nbsp;&nbsp;3.3 Vector Creation](#toc_40015_3.3)\n",
        "- [&nbsp;&nbsp;3.4 Operations on Vectors](#toc_40015_3.4)\n",
        "- [4 Matrices](#toc_40015_4)\n",
        "- [&nbsp;&nbsp;4.1 Abstract](#toc_40015_4.1)\n",
        "- [&nbsp;&nbsp;4.2 NumPy Arrays](#toc_40015_4.2)\n",
        "- [&nbsp;&nbsp;4.3 Matrix Creation](#toc_40015_4.3)\n",
        "- [&nbsp;&nbsp;4.4 Operations on Matrices](#toc_40015_4.4)\n"
      ]
    },
    {
      "cell_type": "code",
      "execution_count": 1,
      "metadata": {
        "id": "lsbMZ26jHhF3"
      },
      "outputs": [],
      "source": [
        "import numpy as np    # it is an unofficial standard to use np for numpy\n",
        "import time"
      ]
    },
    {
      "cell_type": "markdown",
      "metadata": {
        "id": "h18G3m_UHhF4"
      },
      "source": [
        "<a name=\"toc_40015_1.1\"></a>\n",
        "## 1.1 Goals\n",
        "In this lab, you will:\n",
        "- Review the features of NumPy and Python that are used in Course 1"
      ]
    },
    {
      "cell_type": "markdown",
      "metadata": {
        "id": "ZKBUYFgiHhF5"
      },
      "source": [
        "<a name=\"toc_40015_1.2\"></a>\n",
        "## 1.2 Useful References\n",
        "- NumPy Documentation including a basic introduction: [NumPy.org](https://NumPy.org/doc/stable/)\n",
        "- A challenging feature topic: [NumPy Broadcasting](https://NumPy.org/doc/stable/user/basics.broadcasting.html)\n"
      ]
    },
    {
      "cell_type": "markdown",
      "metadata": {
        "id": "rAdysPUyHhF5"
      },
      "source": [
        "<a name=\"toc_40015_2\"></a>\n",
        "# 2 Python and NumPy <a name='Python and NumPy'></a>\n",
        "Python is the programming language we will be using in this course. It has a set of numeric data types and arithmetic operations. NumPy is a library that extends the base capabilities of python to add a richer data set including more numeric types, vectors, matrices, and many matrix functions. NumPy and python  work together fairly seamlessly. Python arithmetic operators work on NumPy data types and many NumPy functions will accept python data types.\n"
      ]
    },
    {
      "cell_type": "markdown",
      "metadata": {
        "id": "lCmaV3fGHhF6"
      },
      "source": [
        "<a name=\"toc_40015_3\"></a>\n",
        "# 3 Vectors\n",
        "<a name=\"toc_40015_3.1\"></a>\n",
        "## 3.1 Abstract\n",
        "![image.png](data:image/png;base64,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)Vectors, as you will use them in this course, are ordered arrays of numbers. In notation, vectors are denoted with lower case bold letters such as $\\mathbf{x}$.  The elements of a vector are all the same type. A vector does not, for example, contain both characters and numbers. The number of elements in the array is often referred to as the *dimension* though mathematicians may prefer *rank*. The vector shown has a dimension of $n$. The elements of a vector can be referenced with an index. In math settings, indexes typically run from 1 to n. In computer science and these labs, indexing will typically run from 0 to n-1.  In notation, elements of a vector, when referenced individually will indicate the index in a subscript, for example, the $0^{th}$ element, of the vector $\\mathbf{x}$ is $x_0$. Note, the x is not bold in this case.  \n"
      ]
    },
    {
      "cell_type": "markdown",
      "metadata": {
        "id": "b-EOB1CBHhF6"
      },
      "source": [
        "<a name=\"toc_40015_3.2\"></a>\n",
        "## 3.2 NumPy Arrays\n",
        "\n",
        "NumPy's basic data structure is an indexable, n-dimensional *array* containing elements of the same type (`dtype`). Right away, you may notice we have overloaded the term 'dimension'. Above, it was the number of elements in the vector, here, dimension refers to the number of indexes of an array. A one-dimensional or 1-D array has one index. In Course 1, we will represent vectors as NumPy 1-D arrays. \n",
        "\n",
        " - 1-D array, shape (n,): n elements indexed [0] through [n-1]\n",
        " "
      ]
    },
    {
      "cell_type": "markdown",
      "metadata": {
        "id": "jcaITZ7eHhF7"
      },
      "source": [
        "<a name=\"toc_40015_3.3\"></a>\n",
        "## 3.3 Vector Creation\n"
      ]
    },
    {
      "cell_type": "markdown",
      "metadata": {
        "id": "0iSNKKKgHhF8"
      },
      "source": [
        "Data creation routines in NumPy will generally have a first parameter which is the shape of the object. This can either be a single value for a 1-D result or a tuple (n,m,...) specifying the shape of the result. Below are examples of creating vectors using these routines."
      ]
    },
    {
      "cell_type": "code",
      "execution_count": 2,
      "metadata": {
        "id": "izxxml3OHhF9",
        "outputId": "d60027b4-0a70-42d9-f737-18dc370ffd1d",
        "colab": {
          "base_uri": "https://localhost:8080/"
        }
      },
      "outputs": [
        {
          "output_type": "stream",
          "name": "stdout",
          "text": [
            "np.zeros(4) :   a = [0. 0. 0. 0.], a shape = (4,), a data type = float64\n",
            "np.zeros(4,) :  a = [0. 0. 0. 0.], a shape = (4,), a data type = float64\n",
            "np.random.random_sample(4): a = [0.24994782 0.4399792  0.83722875 0.13059946], a shape = (4,), a data type = float64\n"
          ]
        }
      ],
      "source": [
        "# NumPy routines which allocate memory and fill arrays with value\n",
        "a = np.zeros(4);                print(f\"np.zeros(4) :   a = {a}, a shape = {a.shape}, a data type = {a.dtype}\")\n",
        "a = np.zeros((4,));             print(f\"np.zeros(4,) :  a = {a}, a shape = {a.shape}, a data type = {a.dtype}\")\n",
        "a = np.random.random_sample(4); print(f\"np.random.random_sample(4): a = {a}, a shape = {a.shape}, a data type = {a.dtype}\")"
      ]
    },
    {
      "cell_type": "markdown",
      "metadata": {
        "id": "JTo9rqIfHhF-"
      },
      "source": [
        "Some data creation routines do not take a shape tuple:"
      ]
    },
    {
      "cell_type": "code",
      "execution_count": 3,
      "metadata": {
        "id": "V29s08OnHhF-",
        "outputId": "f3b7096c-bafb-4869-f8e0-47a613ffb821",
        "colab": {
          "base_uri": "https://localhost:8080/"
        }
      },
      "outputs": [
        {
          "output_type": "stream",
          "name": "stdout",
          "text": [
            "np.arange(4.):     a = [0. 1. 2. 3.], a shape = (4,), a data type = float64\n",
            "np.random.rand(4): a = [0.23933228 0.97692562 0.90140999 0.20726963], a shape = (4,), a data type = float64\n"
          ]
        }
      ],
      "source": [
        "# NumPy routines which allocate memory and fill arrays with value but do not accept shape as input argument\n",
        "a = np.arange(4.);              print(f\"np.arange(4.):     a = {a}, a shape = {a.shape}, a data type = {a.dtype}\")\n",
        "a = np.random.rand(4);          print(f\"np.random.rand(4): a = {a}, a shape = {a.shape}, a data type = {a.dtype}\")"
      ]
    },
    {
      "cell_type": "markdown",
      "metadata": {
        "id": "mzz9wsr4HhF_"
      },
      "source": [
        "values can be specified manually as well. "
      ]
    },
    {
      "cell_type": "code",
      "execution_count": 4,
      "metadata": {
        "id": "tBgO2zkAHhF_",
        "outputId": "07386706-45d0-4ba2-e152-a22e036f9fcb",
        "colab": {
          "base_uri": "https://localhost:8080/"
        }
      },
      "outputs": [
        {
          "output_type": "stream",
          "name": "stdout",
          "text": [
            "np.array([5,4,3,2]):  a = [5 4 3 2],     a shape = (4,), a data type = int64\n",
            "np.array([5.,4,3,2]): a = [5. 4. 3. 2.], a shape = (4,), a data type = float64\n"
          ]
        }
      ],
      "source": [
        "# NumPy routines which allocate memory and fill with user specified values\n",
        "a = np.array([5,4,3,2]);  print(f\"np.array([5,4,3,2]):  a = {a},     a shape = {a.shape}, a data type = {a.dtype}\")\n",
        "a = np.array([5.,4,3,2]); print(f\"np.array([5.,4,3,2]): a = {a}, a shape = {a.shape}, a data type = {a.dtype}\")"
      ]
    },
    {
      "cell_type": "markdown",
      "metadata": {
        "id": "0oKpUg-lHhF_"
      },
      "source": [
        "These have all created a one-dimensional vector  `a` with four elements. `a.shape` returns the dimensions. Here we see a.shape = `(4,)` indicating a 1-d array with 4 elements.  "
      ]
    },
    {
      "cell_type": "markdown",
      "metadata": {
        "id": "UbuKwf3HHhGA"
      },
      "source": [
        "<a name=\"toc_40015_3.4\"></a>\n",
        "## 3.4 Operations on Vectors\n",
        "Let's explore some operations using vectors.\n",
        "<a name=\"toc_40015_3.4.1\"></a>\n",
        "### 3.4.1 Indexing\n",
        "Elements of vectors can be accessed via indexing and slicing. NumPy provides a very complete set of indexing and slicing capabilities. We will explore only the basics needed for the course here. Reference [Slicing and Indexing](https://NumPy.org/doc/stable/reference/arrays.indexing.html) for more details.  \n",
        "**Indexing** means referring to *an element* of an array by its position within the array.  \n",
        "**Slicing** means getting a *subset* of elements from an array based on their indices.  \n",
        "NumPy starts indexing at zero so the 3rd element of an vector $\\mathbf{a}$ is `a[2]`."
      ]
    },
    {
      "cell_type": "code",
      "execution_count": 5,
      "metadata": {
        "id": "4q595paPHhGA",
        "outputId": "4662c4e4-2f78-4eb5-bba9-57d0a1d42734",
        "colab": {
          "base_uri": "https://localhost:8080/"
        }
      },
      "outputs": [
        {
          "output_type": "stream",
          "name": "stdout",
          "text": [
            "[0 1 2 3 4 5 6 7 8 9]\n",
            "a[2].shape: () a[2]  = 2, Accessing an element returns a scalar\n",
            "a[-1] = 9\n",
            "The error message you'll see is:\n",
            "index 10 is out of bounds for axis 0 with size 10\n"
          ]
        }
      ],
      "source": [
        "#vector indexing operations on 1-D vectors\n",
        "a = np.arange(10)\n",
        "print(a)\n",
        "\n",
        "#access an element\n",
        "print(f\"a[2].shape: {a[2].shape} a[2]  = {a[2]}, Accessing an element returns a scalar\")\n",
        "\n",
        "# access the last element, negative indexes count from the end\n",
        "print(f\"a[-1] = {a[-1]}\")\n",
        "\n",
        "#indexs must be within the range of the vector or they will produce and error\n",
        "try:\n",
        "    c = a[10]\n",
        "except Exception as e:\n",
        "    print(\"The error message you'll see is:\")\n",
        "    print(e)"
      ]
    },
    {
      "cell_type": "markdown",
      "metadata": {
        "id": "PxzWaB6wHhGB"
      },
      "source": [
        "<a name=\"toc_40015_3.4.2\"></a>\n",
        "### 3.4.2 Slicing\n",
        "Slicing creates an array of indices using a set of three values (`start:stop:step`). A subset of values is also valid. Its use is best explained by example:"
      ]
    },
    {
      "cell_type": "code",
      "execution_count": 6,
      "metadata": {
        "id": "SU9_J8mmHhGB",
        "outputId": "871a6e76-66e6-4112-8e95-c64fba311426",
        "colab": {
          "base_uri": "https://localhost:8080/"
        }
      },
      "outputs": [
        {
          "output_type": "stream",
          "name": "stdout",
          "text": [
            "a         = [0 1 2 3 4 5 6 7 8 9]\n",
            "a[2:7:1] =  [2 3 4 5 6]\n",
            "a[2:7:2] =  [2 4 6]\n",
            "a[3:]    =  [3 4 5 6 7 8 9]\n",
            "a[:3]    =  [0 1 2]\n",
            "a[:]     =  [0 1 2 3 4 5 6 7 8 9]\n"
          ]
        }
      ],
      "source": [
        "#vector slicing operations\n",
        "a = np.arange(10)\n",
        "print(f\"a         = {a}\")\n",
        "\n",
        "#access 5 consecutive elements (start:stop:step)\n",
        "c = a[2:7:1];     print(\"a[2:7:1] = \", c)\n",
        "\n",
        "# access 3 elements separated by two \n",
        "c = a[2:7:2];     print(\"a[2:7:2] = \", c)\n",
        "\n",
        "# access all elements index 3 and above\n",
        "c = a[3:];        print(\"a[3:]    = \", c)\n",
        "\n",
        "# access all elements below index 3\n",
        "c = a[:3];        print(\"a[:3]    = \", c)\n",
        "\n",
        "# access all elements\n",
        "c = a[:];         print(\"a[:]     = \", c)"
      ]
    },
    {
      "cell_type": "markdown",
      "metadata": {
        "id": "mTpP5RDLHhGB"
      },
      "source": [
        "<a name=\"toc_40015_3.4.3\"></a>\n",
        "### 3.4.3 Single vector operations\n",
        "There are a number of useful operations that involve operations on a single vector."
      ]
    },
    {
      "cell_type": "code",
      "execution_count": 7,
      "metadata": {
        "id": "BDd1Cv1zHhGB",
        "outputId": "fa8e64cd-9bf4-4108-bb89-1028e446bebf",
        "colab": {
          "base_uri": "https://localhost:8080/"
        }
      },
      "outputs": [
        {
          "output_type": "stream",
          "name": "stdout",
          "text": [
            "a             : [1 2 3 4]\n",
            "b = -a        : [-1 -2 -3 -4]\n",
            "b = np.sum(a) : 10\n",
            "b = np.mean(a): 2.5\n",
            "b = a**2      : [ 1  4  9 16]\n"
          ]
        }
      ],
      "source": [
        "a = np.array([1,2,3,4])\n",
        "print(f\"a             : {a}\")\n",
        "# negate elements of a\n",
        "b = -a \n",
        "print(f\"b = -a        : {b}\")\n",
        "\n",
        "# sum all elements of a, returns a scalar\n",
        "b = np.sum(a) \n",
        "print(f\"b = np.sum(a) : {b}\")\n",
        "\n",
        "b = np.mean(a)\n",
        "print(f\"b = np.mean(a): {b}\")\n",
        "\n",
        "b = a**2\n",
        "print(f\"b = a**2      : {b}\")"
      ]
    },
    {
      "cell_type": "markdown",
      "metadata": {
        "id": "_v8-UBgGHhGC"
      },
      "source": [
        "<a name=\"toc_40015_3.4.4\"></a>\n",
        "### 3.4.4 Vector Vector element-wise operations\n",
        "Most of the NumPy arithmetic, logical and comparison operations apply to vectors as well. These operators work on an element-by-element basis. For example \n",
        "$$ \\mathbf{a} + \\mathbf{b} = \\sum_{i=0}^{n-1} a_i + b_i $$"
      ]
    },
    {
      "cell_type": "code",
      "execution_count": 8,
      "metadata": {
        "id": "WzIsx6zbHhGC",
        "outputId": "fa3f3983-aa08-4a19-9b7a-3dbce3638d8d",
        "colab": {
          "base_uri": "https://localhost:8080/"
        }
      },
      "outputs": [
        {
          "output_type": "stream",
          "name": "stdout",
          "text": [
            "Binary operators work element wise: [0 0 6 8]\n"
          ]
        }
      ],
      "source": [
        "a = np.array([ 1, 2, 3, 4])\n",
        "b = np.array([-1,-2, 3, 4])\n",
        "print(f\"Binary operators work element wise: {a + b}\")"
      ]
    },
    {
      "cell_type": "markdown",
      "metadata": {
        "id": "iXKhosDbHhGC"
      },
      "source": [
        "Of course, for this to work correctly, the vectors must be of the same size:"
      ]
    },
    {
      "cell_type": "code",
      "execution_count": 9,
      "metadata": {
        "id": "RZUIAGOnHhGD",
        "outputId": "ab3ea24a-5521-4d16-82ee-7fb823bef6ed",
        "colab": {
          "base_uri": "https://localhost:8080/"
        }
      },
      "outputs": [
        {
          "output_type": "stream",
          "name": "stdout",
          "text": [
            "The error message you'll see is:\n",
            "operands could not be broadcast together with shapes (4,) (2,) \n"
          ]
        }
      ],
      "source": [
        "#try a mismatched vector operation\n",
        "c = np.array([1, 2])\n",
        "try:\n",
        "    d = a + c\n",
        "except Exception as e:\n",
        "    print(\"The error message you'll see is:\")\n",
        "    print(e)"
      ]
    },
    {
      "cell_type": "markdown",
      "metadata": {
        "id": "fdKeUbjFHhGD"
      },
      "source": [
        "<a name=\"toc_40015_3.4.5\"></a>\n",
        "### 3.4.5 Scalar Vector operations\n",
        "Vectors can be 'scaled' by scalar values. A scalar value is just a number. The scalar multiplies all the elements of the vector."
      ]
    },
    {
      "cell_type": "code",
      "execution_count": 10,
      "metadata": {
        "id": "ZM9QZDAyHhGD",
        "outputId": "f3728994-90c6-4a3b-bf7c-1a808c215a1e",
        "colab": {
          "base_uri": "https://localhost:8080/"
        }
      },
      "outputs": [
        {
          "output_type": "stream",
          "name": "stdout",
          "text": [
            "b = 5 * a : [ 5 10 15 20]\n"
          ]
        }
      ],
      "source": [
        "a = np.array([1, 2, 3, 4])\n",
        "\n",
        "# multiply a by a scalar\n",
        "b = 5 * a \n",
        "print(f\"b = 5 * a : {b}\")"
      ]
    },
    {
      "cell_type": "markdown",
      "metadata": {
        "id": "NV1PByL7HhGD"
      },
      "source": [
        "<a name=\"toc_40015_3.4.6\"></a>\n",
        "### 3.4.6 Vector Vector dot product\n",
        "The dot product is a mainstay of Linear Algebra and NumPy. This is an operation used extensively in this course and should be well understood. The dot product is shown below."
      ]
    },
    {
      "cell_type": "markdown",
      "metadata": {
        "id": "OvgtIgwwHhGE"
      },
      "source": [
        "![image.png](data:image/png;base64,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) "
      ]
    },
    {
      "cell_type": "markdown",
      "metadata": {
        "id": "6spdW2ttHhGE"
      },
      "source": [
        "The dot product multiplies the values in two vectors element-wise and then sums the result.\n",
        "Vector dot product requires the dimensions of the two vectors to be the same. "
      ]
    },
    {
      "cell_type": "markdown",
      "metadata": {
        "id": "U4AhRpjlHhGE"
      },
      "source": [
        "Let's implement our own version of the dot product below:\n",
        "\n",
        "**Using a for loop**, implement a function which returns the dot product of two vectors. The function to return given inputs $a$ and $b$:\n",
        "$$ x = \\sum_{i=0}^{n-1} a_i b_i $$\n",
        "Assume both `a` and `b` are the same shape."
      ]
    },
    {
      "cell_type": "code",
      "execution_count": 11,
      "metadata": {
        "id": "95diet-tHhGE"
      },
      "outputs": [],
      "source": [
        "def my_dot(a, b): \n",
        "    \"\"\"\n",
        "   Compute the dot product of two vectors\n",
        " \n",
        "    Args:\n",
        "      a (ndarray (n,)):  input vector \n",
        "      b (ndarray (n,)):  input vector with same dimension as a\n",
        "    \n",
        "    Returns:\n",
        "      x (scalar): \n",
        "    \"\"\"\n",
        "    x=0\n",
        "    for i in range(a.shape[0]):\n",
        "        x = x + a[i] * b[i]\n",
        "    return x"
      ]
    },
    {
      "cell_type": "code",
      "execution_count": 12,
      "metadata": {
        "id": "CEFrIyoCHhGE",
        "outputId": "64bd840c-0f84-4594-fc0e-e93648b7c328",
        "colab": {
          "base_uri": "https://localhost:8080/"
        }
      },
      "outputs": [
        {
          "output_type": "stream",
          "name": "stdout",
          "text": [
            "my_dot(a, b) = 24\n"
          ]
        }
      ],
      "source": [
        "# test 1-D\n",
        "a = np.array([1, 2, 3, 4])\n",
        "b = np.array([-1, 4, 3, 2])\n",
        "print(f\"my_dot(a, b) = {my_dot(a, b)}\")"
      ]
    },
    {
      "cell_type": "markdown",
      "metadata": {
        "id": "rU46XmvTHhGF"
      },
      "source": [
        "Note, the dot product is expected to return a scalar value. \n",
        "\n",
        "Let's try the same operations using `np.dot`.  "
      ]
    },
    {
      "cell_type": "code",
      "execution_count": 13,
      "metadata": {
        "id": "7EXy9Ku-HhGF",
        "outputId": "d2662df3-6570-43e4-efa1-b9c0b95988c0",
        "colab": {
          "base_uri": "https://localhost:8080/"
        }
      },
      "outputs": [
        {
          "output_type": "stream",
          "name": "stdout",
          "text": [
            "NumPy 1-D np.dot(a, b) = 24, np.dot(a, b).shape = () \n",
            "NumPy 1-D np.dot(b, a) = 24, np.dot(a, b).shape = () \n"
          ]
        }
      ],
      "source": [
        "# test 1-D\n",
        "a = np.array([1, 2, 3, 4])\n",
        "b = np.array([-1, 4, 3, 2])\n",
        "c = np.dot(a, b)\n",
        "print(f\"NumPy 1-D np.dot(a, b) = {c}, np.dot(a, b).shape = {c.shape} \") \n",
        "c = np.dot(b, a)\n",
        "print(f\"NumPy 1-D np.dot(b, a) = {c}, np.dot(a, b).shape = {c.shape} \")\n"
      ]
    },
    {
      "cell_type": "markdown",
      "metadata": {
        "id": "Eg0idDk6HhGF"
      },
      "source": [
        "Above, you will note that the results for 1-D matched our implementation."
      ]
    },
    {
      "cell_type": "markdown",
      "metadata": {
        "id": "lSopNgaWHhGF"
      },
      "source": [
        "<a name=\"toc_40015_3.4.7\"></a>\n",
        "### 3.4.7 The Need for Speed: vector vs for loop\n",
        "We utilized the NumPy  library because it improves speed memory efficiency. Let's demonstrate:"
      ]
    },
    {
      "cell_type": "code",
      "execution_count": 14,
      "metadata": {
        "id": "D2GHbHUGHhGF",
        "outputId": "17bec588-dc24-4ace-81fa-62251d7a1c1a",
        "colab": {
          "base_uri": "https://localhost:8080/"
        }
      },
      "outputs": [
        {
          "output_type": "stream",
          "name": "stdout",
          "text": [
            "np.dot(a, b) =  2501072.5817\n",
            "Vectorized version duration: 19.1028 ms \n",
            "my_dot(a, b) =  2501072.5817\n",
            "loop version duration: 8366.7789 ms \n"
          ]
        }
      ],
      "source": [
        "np.random.seed(1)\n",
        "a = np.random.rand(10000000)  # very large arrays\n",
        "b = np.random.rand(10000000)\n",
        "\n",
        "tic = time.time()  # capture start time\n",
        "c = np.dot(a, b)\n",
        "toc = time.time()  # capture end time\n",
        "\n",
        "print(f\"np.dot(a, b) =  {c:.4f}\")\n",
        "print(f\"Vectorized version duration: {1000*(toc-tic):.4f} ms \")\n",
        "\n",
        "tic = time.time()  # capture start time\n",
        "c = my_dot(a,b)\n",
        "toc = time.time()  # capture end time\n",
        "\n",
        "print(f\"my_dot(a, b) =  {c:.4f}\")\n",
        "print(f\"loop version duration: {1000*(toc-tic):.4f} ms \")\n",
        "\n",
        "del(a);del(b)  #remove these big arrays from memory"
      ]
    },
    {
      "cell_type": "markdown",
      "metadata": {
        "id": "y9Kbgt2OHhGG"
      },
      "source": [
        "So, vectorization provides a large speed up in this example. This is because NumPy makes better use of available data parallelism in the underlying hardware. GPU's and modern CPU's implement Single Instruction, Multiple Data (SIMD) pipelines allowing multiple operations to be issued in parallel. This is critical in Machine Learning where the data sets are often very large."
      ]
    },
    {
      "cell_type": "markdown",
      "metadata": {
        "id": "7f6UkuwLHhGG"
      },
      "source": [
        "<a name=\"toc_12345_3.4.8\"></a>\n",
        "### 3.4.8 Vector Vector operations in Course 1\n",
        "Vector Vector operations will appear frequently in course 1. Here is why:\n",
        "- Going forward, our examples will be stored in an array, `X_train` of dimension (m,n). This will be explained more in context, but here it is important to note it is a 2 Dimensional array or matrix (see next section on matrices).\n",
        "- `w` will be a 1-dimensional vector of shape (n,).\n",
        "- we will perform operations by looping through the examples, extracting each example to work on individually by indexing X. For example:`X[i]`\n",
        "- `X[i]` returns a value of shape (n,), a 1-dimensional vector. Consequently, operations involving `X[i]` are often vector-vector.  \n",
        "\n",
        "That is a somewhat lengthy explanation, but aligning and understanding the shapes of your operands is important when performing vector operations."
      ]
    },
    {
      "cell_type": "code",
      "execution_count": 15,
      "metadata": {
        "id": "jTJ-d6iKHhGG",
        "outputId": "475113d1-228f-4447-a1f9-60bdce32e2b8",
        "colab": {
          "base_uri": "https://localhost:8080/"
        }
      },
      "outputs": [
        {
          "output_type": "stream",
          "name": "stdout",
          "text": [
            "X[1] has shape (1,)\n",
            "w has shape (1,)\n",
            "c has shape ()\n"
          ]
        }
      ],
      "source": [
        "# show common Course 1 example\n",
        "X = np.array([[1],[2],[3],[4]])\n",
        "w = np.array([2])\n",
        "c = np.dot(X[1], w)\n",
        "\n",
        "print(f\"X[1] has shape {X[1].shape}\")\n",
        "print(f\"w has shape {w.shape}\")\n",
        "print(f\"c has shape {c.shape}\")"
      ]
    },
    {
      "cell_type": "markdown",
      "metadata": {
        "id": "6dlPGJamHhGG"
      },
      "source": [
        "<a name=\"toc_40015_4\"></a>\n",
        "# 4 Matrices\n"
      ]
    },
    {
      "cell_type": "markdown",
      "metadata": {
        "id": "5p3ogbnLHhGH"
      },
      "source": [
        "<a name=\"toc_40015_4.1\"></a>\n",
        "## 4.1 Abstract\n",
        "Matrices, are two dimensional arrays. The elements of a matrix are all of the same type. In notation, matrices are denoted with capitol, bold letter such as $\\mathbf{X}$. In this and other labs, `m` is often the number of rows and `n` the number of columns. The elements of a matrix can be referenced with a two dimensional index. In math settings, numbers in the index typically run from 1 to n. In computer science and these labs, indexing will run from 0 to n-1. \n",
        "![image.png](data:image/png;base64,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) \n",
        "\n",
        "  Generic Matrix Notation, 1st index is row, 2nd is column"
      ]
    },
    {
      "cell_type": "markdown",
      "metadata": {
        "id": "TTh45UHkHhGH"
      },
      "source": [
        "<a name=\"toc_40015_4.2\"></a>\n",
        "## 4.2 NumPy Arrays\n",
        "\n",
        "NumPy's basic data structure is an indexable, n-dimensional *array* containing elements of the same type (`dtype`). These were described earlier. Matrices have a two-dimensional (2-D) index [m,n].\n",
        "\n",
        "In Course 1, 2-D matrices are used to hold training data. Training data is $m$ examples by $n$ features creating an (m,n) array. Course 1 does not do operations directly on matrices but typically extracts an example as a vector and operates on that. Below you will review: \n",
        "- data creation\n",
        "- slicing and indexing"
      ]
    },
    {
      "cell_type": "markdown",
      "metadata": {
        "id": "RfoXryS_HhGH"
      },
      "source": [
        "<a name=\"toc_40015_4.3\"></a>\n",
        "## 4.3 Matrix Creation\n",
        "The same functions that created 1-D vectors will create 2-D or n-D arrays. Here are some examples\n"
      ]
    },
    {
      "cell_type": "markdown",
      "metadata": {
        "id": "AYpgu6XFHhGH"
      },
      "source": [
        "Below, the shape tuple is provided to achieve a 2-D result. Notice how NumPy uses brackets to denote each dimension. Notice further than NumPy, when printing, will print one row per line.\n"
      ]
    },
    {
      "cell_type": "code",
      "execution_count": 16,
      "metadata": {
        "id": "vD5RfICxHhGH",
        "outputId": "d6a438de-a4f6-4877-bdc9-b6de06e7a089",
        "colab": {
          "base_uri": "https://localhost:8080/"
        }
      },
      "outputs": [
        {
          "output_type": "stream",
          "name": "stdout",
          "text": [
            "a shape = (1, 5), a = [[0. 0. 0. 0. 0.]]\n",
            "a shape = (2, 1), a = [[0.]\n",
            " [0.]]\n",
            "a shape = (1, 1), a = [[0.44236513]]\n"
          ]
        }
      ],
      "source": [
        "a = np.zeros((1, 5))                                       \n",
        "print(f\"a shape = {a.shape}, a = {a}\")                     \n",
        "\n",
        "a = np.zeros((2, 1))                                                                   \n",
        "print(f\"a shape = {a.shape}, a = {a}\") \n",
        "\n",
        "a = np.random.random_sample((1, 1))  \n",
        "print(f\"a shape = {a.shape}, a = {a}\") "
      ]
    },
    {
      "cell_type": "markdown",
      "metadata": {
        "id": "KAmfiHczHhGI"
      },
      "source": [
        "One can also manually specify data. Dimensions are specified with additional brackets matching the format in the printing above."
      ]
    },
    {
      "cell_type": "code",
      "execution_count": 17,
      "metadata": {
        "id": "si-RgzPVHhGI",
        "outputId": "52599693-da68-451c-f0c5-6be077af4275",
        "colab": {
          "base_uri": "https://localhost:8080/"
        }
      },
      "outputs": [
        {
          "output_type": "stream",
          "name": "stdout",
          "text": [
            " a shape = (3, 1), np.array: a = [[5]\n",
            " [4]\n",
            " [3]]\n",
            " a shape = (3, 1), np.array: a = [[5]\n",
            " [4]\n",
            " [3]]\n"
          ]
        }
      ],
      "source": [
        "# NumPy routines which allocate memory and fill with user specified values\n",
        "a = np.array([[5], [4], [3]]);   print(f\" a shape = {a.shape}, np.array: a = {a}\")\n",
        "a = np.array([[5],   # One can also\n",
        "              [4],   # separate values\n",
        "              [3]]); #into separate rows\n",
        "print(f\" a shape = {a.shape}, np.array: a = {a}\")"
      ]
    },
    {
      "cell_type": "markdown",
      "metadata": {
        "id": "gumVyebEHhGI"
      },
      "source": [
        "<a name=\"toc_40015_4.4\"></a>\n",
        "## 4.4 Operations on Matrices\n",
        "Let's explore some operations using matrices."
      ]
    },
    {
      "cell_type": "markdown",
      "metadata": {
        "id": "fEWbBzvmHhGJ"
      },
      "source": [
        "<a name=\"toc_40015_4.4.1\"></a>\n",
        "### 4.4.1 Indexing\n"
      ]
    },
    {
      "cell_type": "markdown",
      "metadata": {
        "id": "VKGdmkWWHhGJ"
      },
      "source": [
        "Matrices include a second index. The two indexes describe [row, column]. Access can either return an element or a row/column. See below:"
      ]
    },
    {
      "cell_type": "code",
      "execution_count": 18,
      "metadata": {
        "id": "W6KKpuGCHhGJ",
        "outputId": "51334db9-a27c-4e8c-8641-9c960076ebdd",
        "colab": {
          "base_uri": "https://localhost:8080/"
        }
      },
      "outputs": [
        {
          "output_type": "stream",
          "name": "stdout",
          "text": [
            "a.shape: (3, 2), \n",
            "a= [[0 1]\n",
            " [2 3]\n",
            " [4 5]]\n",
            "\n",
            "a[2,0].shape:   (), a[2,0] = 4,     type(a[2,0]) = <class 'numpy.int64'> Accessing an element returns a scalar\n",
            "\n",
            "a[2].shape:   (2,), a[2]   = [4 5], type(a[2])   = <class 'numpy.ndarray'>\n"
          ]
        }
      ],
      "source": [
        "#vector indexing operations on matrices\n",
        "a = np.arange(6).reshape(-1, 2)   #reshape is a convenient way to create matrices\n",
        "print(f\"a.shape: {a.shape}, \\na= {a}\")\n",
        "\n",
        "#access an element\n",
        "print(f\"\\na[2,0].shape:   {a[2, 0].shape}, a[2,0] = {a[2, 0]},     type(a[2,0]) = {type(a[2, 0])} Accessing an element returns a scalar\\n\")\n",
        "\n",
        "#access a row\n",
        "print(f\"a[2].shape:   {a[2].shape}, a[2]   = {a[2]}, type(a[2])   = {type(a[2])}\")"
      ]
    },
    {
      "cell_type": "markdown",
      "metadata": {
        "id": "frJhrB3QHhGJ"
      },
      "source": [
        "It is worth drawing attention to the last example. Accessing a matrix by just specifying the row will return a *1-D vector*."
      ]
    },
    {
      "cell_type": "markdown",
      "metadata": {
        "id": "zXT8dgDwHhGJ"
      },
      "source": [
        "**Reshape**  \n",
        "The previous example used [reshape](https://numpy.org/doc/stable/reference/generated/numpy.reshape.html) to shape the array.  \n",
        "`a = np.arange(6).reshape(-1, 2) `   \n",
        "This line of code first created a *1-D Vector* of six elements. It then reshaped that vector into a *2-D* array using the reshape command. This could have been written:  \n",
        "`a = np.arange(6).reshape(3, 2) `  \n",
        "To arrive at the same 3 row, 2 column array.\n",
        "The -1 argument tells the routine to compute the number of rows given the size of the array and the number of columns.\n"
      ]
    },
    {
      "cell_type": "markdown",
      "metadata": {
        "id": "iYpJcG19HhGK"
      },
      "source": [
        "<a name=\"toc_40015_4.4.2\"></a>\n",
        "### 4.4.2 Slicing\n",
        "Slicing creates an array of indices using a set of three values (`start:stop:step`). A subset of values is also valid. Its use is best explained by example:"
      ]
    },
    {
      "cell_type": "code",
      "execution_count": 19,
      "metadata": {
        "id": "FCRGnYnqHhGK",
        "outputId": "8cb3e8c0-74a4-4dd0-e1a5-1e6872627367",
        "colab": {
          "base_uri": "https://localhost:8080/"
        }
      },
      "outputs": [
        {
          "output_type": "stream",
          "name": "stdout",
          "text": [
            "a = \n",
            "[[ 0  1  2  3  4  5  6  7  8  9]\n",
            " [10 11 12 13 14 15 16 17 18 19]]\n",
            "a[0, 2:7:1] =  [2 3 4 5 6] ,  a[0, 2:7:1].shape = (5,) a 1-D array\n",
            "a[:, 2:7:1] = \n",
            " [[ 2  3  4  5  6]\n",
            " [12 13 14 15 16]] ,  a[:, 2:7:1].shape = (2, 5) a 2-D array\n",
            "a[:,:] = \n",
            " [[ 0  1  2  3  4  5  6  7  8  9]\n",
            " [10 11 12 13 14 15 16 17 18 19]] ,  a[:,:].shape = (2, 10)\n",
            "a[1,:] =  [10 11 12 13 14 15 16 17 18 19] ,  a[1,:].shape = (10,) a 1-D array\n",
            "a[1]   =  [10 11 12 13 14 15 16 17 18 19] ,  a[1].shape   = (10,) a 1-D array\n"
          ]
        }
      ],
      "source": [
        "#vector 2-D slicing operations\n",
        "a = np.arange(20).reshape(-1, 10)\n",
        "print(f\"a = \\n{a}\")\n",
        "\n",
        "#access 5 consecutive elements (start:stop:step)\n",
        "print(\"a[0, 2:7:1] = \", a[0, 2:7:1], \",  a[0, 2:7:1].shape =\", a[0, 2:7:1].shape, \"a 1-D array\")\n",
        "\n",
        "#access 5 consecutive elements (start:stop:step) in two rows\n",
        "print(\"a[:, 2:7:1] = \\n\", a[:, 2:7:1], \",  a[:, 2:7:1].shape =\", a[:, 2:7:1].shape, \"a 2-D array\")\n",
        "\n",
        "# access all elements\n",
        "print(\"a[:,:] = \\n\", a[:,:], \",  a[:,:].shape =\", a[:,:].shape)\n",
        "\n",
        "# access all elements in one row (very common usage)\n",
        "print(\"a[1,:] = \", a[1,:], \",  a[1,:].shape =\", a[1,:].shape, \"a 1-D array\")\n",
        "# same as\n",
        "print(\"a[1]   = \", a[1],   \",  a[1].shape   =\", a[1].shape, \"a 1-D array\")\n"
      ]
    },
    {
      "cell_type": "markdown",
      "metadata": {
        "id": "Ydu9TIGDHhGK"
      },
      "source": [
        "<a name=\"toc_40015_5.0\"></a>\n",
        "## Congratulations!\n",
        "In this lab you mastered the features of Python and NumPy that are needed for Course 1."
      ]
    },
    {
      "cell_type": "code",
      "execution_count": 19,
      "metadata": {
        "id": "PBt0WCnUHhGK"
      },
      "outputs": [],
      "source": [
        ""
      ]
    }
  ],
  "metadata": {
    "dl_toc_settings": {
      "rndtag": "40015"
    },
    "kernelspec": {
      "display_name": "Python 3",
      "language": "python",
      "name": "python3"
    },
    "language_info": {
      "codemirror_mode": {
        "name": "ipython",
        "version": 3
      },
      "file_extension": ".py",
      "mimetype": "text/x-python",
      "name": "python",
      "nbconvert_exporter": "python",
      "pygments_lexer": "ipython3",
      "version": "3.7.6"
    },
    "toc-autonumbering": false,
    "colab": {
      "name": "C1_W2_Lab01_Python_Numpy_Vectorization.ipynb",
      "provenance": [],
      "collapsed_sections": [],
      "include_colab_link": true
    }
  },
  "nbformat": 4,
  "nbformat_minor": 0
}